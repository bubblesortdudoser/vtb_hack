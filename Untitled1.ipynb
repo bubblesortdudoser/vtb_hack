{
 "cells": [
  {
   "cell_type": "code",
   "execution_count": 179,
   "metadata": {},
   "outputs": [
    {
     "name": "stderr",
     "output_type": "stream",
     "text": [
      "[nltk_data] Downloading package stopwords to\n",
      "[nltk_data]     C:\\Users\\misha\\AppData\\Roaming\\nltk_data...\n",
      "[nltk_data]   Package stopwords is already up-to-date!\n",
      "[nltk_data] Downloading package wordnet to\n",
      "[nltk_data]     C:\\Users\\misha\\AppData\\Roaming\\nltk_data...\n",
      "[nltk_data]   Package wordnet is already up-to-date!\n"
     ]
    }
   ],
   "source": [
    "import copy\n",
    "from collections import Counter\n",
    "from Levenshtein import distance as lev_distance\n",
    "from fuzzywuzzy import fuzz\n",
    "from fuzzywuzzy import process\n",
    "\n",
    "from sklearn.feature_extraction.text import CountVectorizer\n",
    "from sklearn.feature_extraction.text import TfidfVectorizer\n",
    "\n",
    "from nltk.corpus import stopwords\n",
    "import nltk\n",
    "nltk.download('stopwords')\n",
    "nltk.download('wordnet')\n",
    "\n",
    "import warnings\n",
    "warnings.filterwarnings(\"ignore\")"
   ]
  },
  {
   "cell_type": "code",
   "execution_count": 180,
   "metadata": {},
   "outputs": [
    {
     "name": "stdout",
     "output_type": "stream",
     "text": [
      "['нак: на крымском мосту произошел подрыв грузового автомобиля\\n', '\\n', 'нак: на крымском мосту частично обрушились два автомобильных\\n', '\\n']\n"
     ]
    }
   ],
   "source": [
    "with open('titles.txt', 'r', encoding='utf8') as titles:\n",
    "    titles = titles.readlines()\n",
    "    titles = [title.lower() for title in titles]\n",
    "    print(titles)"
   ]
  },
  {
   "cell_type": "code",
   "execution_count": 181,
   "metadata": {},
   "outputs": [
    {
     "name": "stdout",
     "output_type": "stream",
     "text": [
      "В списке \"punkt_list\" нет повторяющихся элементов\n"
     ]
    }
   ],
   "source": [
    "punkt_list = ['.', ',', '/', '`', '\"', \"'\", '!', '&', '?', '(', ')', '-', '+', '_', '*', '@', ';', ':', '<',\n",
    "         '>', '\\\\', '[', ']', '0', '1', '2', '3', '4', '5', '6', '7', '8', '9', '“', '„', '%', '$', '…',\n",
    "         '’', '|', '^', '~', '=', '»', '”', '′', '•', '—', '«']\n",
    "\n",
    "flag = True\n",
    "for i in range(len(punkt_list)):\n",
    "    for j in range(i+1, len(punkt_list)):\n",
    "        if punkt_list[i] == punkt_list[j]:\n",
    "            print(f'1й индекс: {i}, 2й индекс: {j}, символ: {punkt_list[i]}')\n",
    "            flag = False\n",
    "if flag:\n",
    "    print('В списке \"punkt_list\" нет повторяющихся элементов')"
   ]
  },
  {
   "cell_type": "code",
   "execution_count": 182,
   "metadata": {},
   "outputs": [
    {
     "name": "stdout",
     "output_type": "stream",
     "text": [
      "В списке \"stop_list\" нет повторяющихся элементов\n"
     ]
    }
   ],
   "source": [
    "stop_list = stopwords.words('russian') + stopwords.words('english')\n",
    "rubbish_list = ['которые', 'нам', 'дали', 'например', 'пока', 'часть', 'лишь', 'это', 'также', 'будут']\n",
    "stop_list += rubbish_list\n",
    "\n",
    "flag = True\n",
    "for i in range(len(stop_list)):\n",
    "    for j in range(i+1, len(stop_list)):\n",
    "        if stop_list[i] == stop_list[j]:\n",
    "            print(f'1й индекс: {i}, 2й индекс: {j}, символ: {stop_list[i]}')\n",
    "            flag = False\n",
    "if flag:\n",
    "    print('В списке \"stop_list\" нет повторяющихся элементов')"
   ]
  },
  {
   "cell_type": "code",
   "execution_count": 183,
   "metadata": {},
   "outputs": [
    {
     "data": {
      "text/plain": [
       "['нак: на крымском мосту произошел подрыв грузового автомобиля\\n',\n",
       " '\\n',\n",
       " 'нак: на крымском мосту частично обрушились два автомобильных\\n',\n",
       " '\\n']"
      ]
     },
     "execution_count": 183,
     "metadata": {},
     "output_type": "execute_result"
    }
   ],
   "source": [
    "titles"
   ]
  },
  {
   "cell_type": "code",
   "execution_count": 184,
   "metadata": {},
   "outputs": [
    {
     "name": "stdout",
     "output_type": "stream",
     "text": [
      "57 нак крымском мосту произошел подрыв грузового автомобиля \n",
      "53 нак крымском мосту частично обрушились автомобильных \n"
     ]
    },
    {
     "data": {
      "text/plain": [
       "['нак крымском мосту произошел подрыв грузового автомобиля ',\n",
       " 'нак крымском мосту частично обрушились автомобильных ']"
      ]
     },
     "execution_count": 184,
     "metadata": {},
     "output_type": "execute_result"
    }
   ],
   "source": [
    "new_titles = []\n",
    "for title_ind in range(len(titles)):\n",
    "    for sign in punkt_list:\n",
    "        titles[title_ind] = titles[title_ind].replace(sign, '')\n",
    "    titles[title_ind] = titles[title_ind].replace('\\n', ' ')\n",
    "    titles[title_ind] = titles[title_ind].replace('\\t', ' ')\n",
    "    for stopword in stop_list:\n",
    "        new_str = ''\n",
    "        for word in titles[title_ind].split():\n",
    "            if word != stopword:\n",
    "                new_str += word+' '\n",
    "        titles[title_ind] = new_str\n",
    "    if len(titles[title_ind]) > 1:\n",
    "        print(len(titles[title_ind]), titles[title_ind])\n",
    "        new_titles.append(titles[title_ind])\n",
    "titles = copy.deepcopy(new_titles)\n",
    "titles"
   ]
  },
  {
   "cell_type": "code",
   "execution_count": 185,
   "metadata": {},
   "outputs": [
    {
     "name": "stdout",
     "output_type": "stream",
     "text": [
      "нак крымском мосту произошел подрыв грузового автомобиля  нак крымском мосту произошел подрыв грузового автомобиля  100\n",
      "нак крымском мосту произошел подрыв грузового автомобиля  нак крымском мосту частично обрушились автомобильных  63\n",
      "нак крымском мосту частично обрушились автомобильных  нак крымском мосту произошел подрыв грузового автомобиля  63\n",
      "нак крымском мосту частично обрушились автомобильных  нак крымском мосту частично обрушились автомобильных  100\n"
     ]
    }
   ],
   "source": [
    "def title_compare(title1: str, title2: str, time1: int, time2: int):\n",
    "    if abs(time1-time2) < 8*3600:\n",
    "        print(title1, title2, fuzz.token_set_ratio(title1, title2))\n",
    "        return fuzz.token_set_ratio(title1, title2) > 50\n",
    "    else:\n",
    "        return False\n",
    "for i in titles:\n",
    "    for j in titles:\n",
    "        title_compare(i, j, 0, 10)"
   ]
  }
 ],
 "metadata": {
  "kernelspec": {
   "display_name": "Python 3",
   "language": "python",
   "name": "python3"
  },
  "language_info": {
   "codemirror_mode": {
    "name": "ipython",
    "version": 3
   },
   "file_extension": ".py",
   "mimetype": "text/x-python",
   "name": "python",
   "nbconvert_exporter": "python",
   "pygments_lexer": "ipython3",
   "version": "3.8.5"
  }
 },
 "nbformat": 4,
 "nbformat_minor": 4
}
